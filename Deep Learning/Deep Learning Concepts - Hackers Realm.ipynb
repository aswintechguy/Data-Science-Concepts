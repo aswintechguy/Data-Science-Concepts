{
 "cells": [
  {
   "cell_type": "markdown",
   "metadata": {},
   "source": [
    "## Extract Features from Image"
   ]
  },
  {
   "cell_type": "code",
   "execution_count": 4,
   "metadata": {},
   "outputs": [],
   "source": [
    "import os\n",
    "from tensorflow.keras.applications.vgg16 import VGG16, preprocess_input\n",
    "from tensorflow.keras.preprocessing.image import load_img, img_to_array\n",
    "from tensorflow.keras.models import Model"
   ]
  },
  {
   "cell_type": "code",
   "execution_count": 5,
   "metadata": {},
   "outputs": [
    {
     "name": "stdout",
     "output_type": "stream",
     "text": [
      "Model: \"model\"\n",
      "_________________________________________________________________\n",
      "Layer (type)                 Output Shape              Param #   \n",
      "=================================================================\n",
      "input_2 (InputLayer)         [(None, 224, 224, 3)]     0         \n",
      "_________________________________________________________________\n",
      "block1_conv1 (Conv2D)        (None, 224, 224, 64)      1792      \n",
      "_________________________________________________________________\n",
      "block1_conv2 (Conv2D)        (None, 224, 224, 64)      36928     \n",
      "_________________________________________________________________\n",
      "block1_pool (MaxPooling2D)   (None, 112, 112, 64)      0         \n",
      "_________________________________________________________________\n",
      "block2_conv1 (Conv2D)        (None, 112, 112, 128)     73856     \n",
      "_________________________________________________________________\n",
      "block2_conv2 (Conv2D)        (None, 112, 112, 128)     147584    \n",
      "_________________________________________________________________\n",
      "block2_pool (MaxPooling2D)   (None, 56, 56, 128)       0         \n",
      "_________________________________________________________________\n",
      "block3_conv1 (Conv2D)        (None, 56, 56, 256)       295168    \n",
      "_________________________________________________________________\n",
      "block3_conv2 (Conv2D)        (None, 56, 56, 256)       590080    \n",
      "_________________________________________________________________\n",
      "block3_conv3 (Conv2D)        (None, 56, 56, 256)       590080    \n",
      "_________________________________________________________________\n",
      "block3_pool (MaxPooling2D)   (None, 28, 28, 256)       0         \n",
      "_________________________________________________________________\n",
      "block4_conv1 (Conv2D)        (None, 28, 28, 512)       1180160   \n",
      "_________________________________________________________________\n",
      "block4_conv2 (Conv2D)        (None, 28, 28, 512)       2359808   \n",
      "_________________________________________________________________\n",
      "block4_conv3 (Conv2D)        (None, 28, 28, 512)       2359808   \n",
      "_________________________________________________________________\n",
      "block4_pool (MaxPooling2D)   (None, 14, 14, 512)       0         \n",
      "_________________________________________________________________\n",
      "block5_conv1 (Conv2D)        (None, 14, 14, 512)       2359808   \n",
      "_________________________________________________________________\n",
      "block5_conv2 (Conv2D)        (None, 14, 14, 512)       2359808   \n",
      "_________________________________________________________________\n",
      "block5_conv3 (Conv2D)        (None, 14, 14, 512)       2359808   \n",
      "_________________________________________________________________\n",
      "block5_pool (MaxPooling2D)   (None, 7, 7, 512)         0         \n",
      "_________________________________________________________________\n",
      "flatten (Flatten)            (None, 25088)             0         \n",
      "_________________________________________________________________\n",
      "fc1 (Dense)                  (None, 4096)              102764544 \n",
      "_________________________________________________________________\n",
      "fc2 (Dense)                  (None, 4096)              16781312  \n",
      "=================================================================\n",
      "Total params: 134,260,544\n",
      "Trainable params: 134,260,544\n",
      "Non-trainable params: 0\n",
      "_________________________________________________________________\n",
      "None\n"
     ]
    }
   ],
   "source": [
    "# load the model\n",
    "model = VGG16()\n",
    "# restructure the model\n",
    "model = Model(inputs=model.inputs, outputs=model.layers[-2].output)\n",
    "# summary\n",
    "print(model.summary())"
   ]
  },
  {
   "cell_type": "code",
   "execution_count": 9,
   "metadata": {},
   "outputs": [],
   "source": [
    "features = {}\n",
    "directory = 'image data/'\n",
    "for image in os.listdir(directory):\n",
    "    image_path = directory+image\n",
    "    \n",
    "    # load the image\n",
    "    img = load_img(image_path, target_size=(224, 224))\n",
    "    # convert pixel to numpy array\n",
    "    img = img_to_array(img)\n",
    "    # reshape the image for the model\n",
    "    img = img.reshape((1, img.shape[0], img.shape[1], img.shape[2]))\n",
    "    # preprocess the image\n",
    "    img = preprocess_input(img)\n",
    "    # extract features\n",
    "    feature = model.predict(img, verbose=0)\n",
    "    # store feature\n",
    "    features[image_path] = feature"
   ]
  },
  {
   "cell_type": "code",
   "execution_count": 13,
   "metadata": {},
   "outputs": [
    {
     "data": {
      "text/plain": [
       "array([[0.        , 0.        , 0.85335493, ..., 0.        , 0.        ,\n",
       "        0.        ]], dtype=float32)"
      ]
     },
     "execution_count": 13,
     "metadata": {},
     "output_type": "execute_result"
    }
   ],
   "source": [
    "# feature.tolist()\n",
    "features['image data/1.jpg']\n",
    "# store the dictionary using pickle"
   ]
  },
  {
   "cell_type": "code",
   "execution_count": null,
   "metadata": {},
   "outputs": [],
   "source": []
  },
  {
   "cell_type": "markdown",
   "metadata": {},
   "source": [
    "## Extract Features from Audio"
   ]
  },
  {
   "cell_type": "code",
   "execution_count": 16,
   "metadata": {},
   "outputs": [],
   "source": [
    "# !pip install librosa"
   ]
  },
  {
   "cell_type": "code",
   "execution_count": 24,
   "metadata": {},
   "outputs": [],
   "source": [
    "import librosa\n",
    "import librosa.display\n",
    "import IPython.display as ipd\n",
    "import os\n",
    "import numpy as np"
   ]
  },
  {
   "cell_type": "code",
   "execution_count": 20,
   "metadata": {},
   "outputs": [
    {
     "name": "stdout",
     "output_type": "stream",
     "text": [
      "OAF_back_fear.wav\n",
      "OAF_back_happy.wav\n",
      "OAF_back_ps.wav\n",
      "OAF_back_sad.wav\n"
     ]
    }
   ],
   "source": [
    "for file in os.listdir('audio data/'):\n",
    "    print(file)"
   ]
  },
  {
   "cell_type": "code",
   "execution_count": 21,
   "metadata": {},
   "outputs": [
    {
     "data": {
      "text/html": [
       "\n",
       "                <audio  controls=\"controls\" >\n",
       "                    <source src=\"data:audio/wav;base64,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\" type=\"audio/wav\" />\n",
       "                    Your browser does not support the audio element.\n",
       "                </audio>\n",
       "              "
      ],
      "text/plain": [
       "<IPython.lib.display.Audio object>"
      ]
     },
     "execution_count": 21,
     "metadata": {},
     "output_type": "execute_result"
    }
   ],
   "source": [
    "ipd.Audio('audio data/OAF_back_happy.wav')"
   ]
  },
  {
   "cell_type": "code",
   "execution_count": 25,
   "metadata": {},
   "outputs": [],
   "source": [
    "def feature_extraction(file_path):\n",
    "    # load the audio file\n",
    "    x, sample_rate = librosa.load(file_path, res_type='kaiser_fast')\n",
    "    # extract features from the audio\n",
    "    mfcc = np.mean(librosa.feature.mfcc(y=x, sr=sample_rate, n_mfcc=50).T, axis=0)\n",
    "    \n",
    "    return mfcc"
   ]
  },
  {
   "cell_type": "code",
   "execution_count": 26,
   "metadata": {},
   "outputs": [],
   "source": [
    "features = {}\n",
    "directory = 'audio data/'\n",
    "for audio in os.listdir(directory):\n",
    "    audio_path = directory+audio\n",
    "    features[audio_path] = feature_extraction(audio_path)"
   ]
  },
  {
   "cell_type": "code",
   "execution_count": 27,
   "metadata": {},
   "outputs": [
    {
     "data": {
      "text/plain": [
       "'audio data/OAF_back_sad.wav'"
      ]
     },
     "execution_count": 27,
     "metadata": {},
     "output_type": "execute_result"
    }
   ],
   "source": [
    "audio_path"
   ]
  },
  {
   "cell_type": "code",
   "execution_count": 29,
   "metadata": {},
   "outputs": [
    {
     "data": {
      "text/plain": [
       "(array([-5.45112976e+02,  8.45765152e+01,  1.97867851e+01,  1.57587433e+01,\n",
       "         1.19505682e+01,  1.99414787e+01, -1.66443958e+01, -5.83508873e+00,\n",
       "        -1.49142656e+01,  7.49133253e+00, -1.26599941e+01,  1.03757305e+01,\n",
       "        -8.21155357e+00,  1.39499397e+01,  3.85002089e+00, -1.90467656e+00,\n",
       "        -9.66936052e-01,  1.13953471e+00,  3.03179502e+00, -3.28641486e+00,\n",
       "         2.70385575e+00,  2.46525741e+00, -4.16511345e+00,  8.95555496e-01,\n",
       "        -7.91851473e+00, -3.65912080e-01,  1.03952038e+00,  6.57844543e-03,\n",
       "        -1.79344571e+00,  8.81427479e+00,  6.59980965e+00,  1.05787868e+01,\n",
       "         1.09505825e+01,  9.41102600e+00,  6.45796394e+00,  5.72548151e+00,\n",
       "         9.25910664e+00,  7.19050741e+00,  1.38176470e+01,  1.14543543e+01,\n",
       "         9.49003029e+00,  5.20508289e+00,  4.15053225e+00,  5.35622215e+00,\n",
       "         5.44810677e+00,  3.08560395e+00,  1.56520414e+00,  9.63827789e-01,\n",
       "         3.19523668e+00,  7.85421312e-01], dtype=float32),\n",
       " 50)"
      ]
     },
     "execution_count": 29,
     "metadata": {},
     "output_type": "execute_result"
    }
   ],
   "source": [
    "features[audio_path], len(features[audio_path])"
   ]
  },
  {
   "cell_type": "code",
   "execution_count": null,
   "metadata": {},
   "outputs": [],
   "source": []
  },
  {
   "cell_type": "markdown",
   "metadata": {},
   "source": [
    "## Data Augmentation for Image"
   ]
  },
  {
   "cell_type": "code",
   "execution_count": 1,
   "metadata": {},
   "outputs": [],
   "source": [
    "from tensorflow.keras.datasets import mnist\n",
    "import matplotlib.pyplot as plt\n",
    "from tensorflow.keras.preprocessing.image import ImageDataGenerator\n",
    "import numpy as np\n",
    "import warnings\n",
    "warnings.filterwarnings('ignore')"
   ]
  },
  {
   "cell_type": "code",
   "execution_count": 2,
   "metadata": {},
   "outputs": [],
   "source": [
    "(X_train, y_train), (X_test, y_test) = mnist.load_data()"
   ]
  },
  {
   "cell_type": "code",
   "execution_count": 4,
   "metadata": {},
   "outputs": [
    {
     "data": {
      "text/plain": [
       "((60000, 28, 28), (10000, 28, 28))"
      ]
     },
     "execution_count": 4,
     "metadata": {},
     "output_type": "execute_result"
    }
   ],
   "source": [
    "X_train.shape, X_test.shape"
   ]
  },
  {
   "cell_type": "code",
   "execution_count": 5,
   "metadata": {},
   "outputs": [],
   "source": [
    "# reshape the data\n",
    "X_train = X_train.reshape((X_train.shape[0], 28, 28, 1))\n",
    "X_test = X_test.reshape((X_test.shape[0], 28, 28, 1))\n",
    "# change the type to float\n",
    "X_train = X_train.astype('float32')\n",
    "X_test = X_test.astype('float32')"
   ]
  },
  {
   "cell_type": "code",
   "execution_count": 6,
   "metadata": {},
   "outputs": [
    {
     "data": {
      "text/plain": [
       "((60000, 28, 28, 1), (10000, 28, 28, 1))"
      ]
     },
     "execution_count": 6,
     "metadata": {},
     "output_type": "execute_result"
    }
   ],
   "source": [
    "X_train.shape, X_test.shape"
   ]
  },
  {
   "cell_type": "code",
   "execution_count": 9,
   "metadata": {},
   "outputs": [
    {
     "data": {
      "image/png": "[encoded data removed]",
      "text/plain": [
       "<Figure size 576x576 with 16 Axes>"
      ]
     },
     "metadata": {
      "needs_background": "light"
     },
     "output_type": "display_data"
    }
   ],
   "source": [
    "data_generator = ImageDataGenerator()\n",
    "# configure batch for the images\n",
    "for X_batch, y_batch in data_generator.flow(X_train, y_train, batch_size=16, shuffle=False):\n",
    "    # create grid of 4x4 images\n",
    "    fig, ax = plt.subplots(4, 4, figsize=(8, 8))\n",
    "    for i in range(4):\n",
    "        for j in range(4):\n",
    "            ax[i][j].axis('off')\n",
    "            ax[i][j].imshow(X_batch[i*4 + j].reshape(28, 28), cmap=plt.get_cmap('gray'))\n",
    "    plt.show()\n",
    "    break"
   ]
  },
  {
   "cell_type": "code",
   "execution_count": 10,
   "metadata": {},
   "outputs": [
    {
     "data": {
      "image/png": "[encoded data removed]",
      "text/plain": [
       "<Figure size 576x576 with 16 Axes>"
      ]
     },
     "metadata": {
      "needs_background": "light"
     },
     "output_type": "display_data"
    }
   ],
   "source": [
    "# data augmentation\n",
    "data_generator = ImageDataGenerator(\n",
    "    rescale=1./255,\n",
    "    rotation_range=30,\n",
    "    zoom_range=0.2,\n",
    "    shear_range=0.2,\n",
    "    height_shift_range=0.2\n",
    ")\n",
    "# configure batch for the images\n",
    "for X_batch, y_batch in data_generator.flow(X_train, y_train, batch_size=16, shuffle=False):\n",
    "    # create grid of 4x4 images\n",
    "    fig, ax = plt.subplots(4, 4, figsize=(8, 8))\n",
    "    for i in range(4):\n",
    "        for j in range(4):\n",
    "            ax[i][j].axis('off')\n",
    "            ax[i][j].imshow(X_batch[i*4 + j].reshape(28, 28), cmap=plt.get_cmap('gray'))\n",
    "    plt.show()\n",
    "    break"
   ]
  },
  {
   "cell_type": "code",
   "execution_count": null,
   "metadata": {},
   "outputs": [],
   "source": []
  },
  {
   "cell_type": "markdown",
   "metadata": {},
   "source": [
    "## Transfer Learning using Pretrained Model"
   ]
  },
  {
   "cell_type": "code",
   "execution_count": 36,
   "metadata": {},
   "outputs": [],
   "source": [
    "from tensorflow.keras.datasets import mnist\n",
    "import matplotlib.pyplot as plt\n",
    "from tensorflow.keras.preprocessing.image import ImageDataGenerator\n",
    "from tensorflow.keras.utils import to_categorical\n",
    "import numpy as np\n",
    "import warnings\n",
    "warnings.filterwarnings('ignore')"
   ]
  },
  {
   "cell_type": "code",
   "execution_count": 37,
   "metadata": {},
   "outputs": [],
   "source": [
    "(X_train, y_train), (X_test, y_test) = mnist.load_data()"
   ]
  },
  {
   "cell_type": "code",
   "execution_count": 38,
   "metadata": {},
   "outputs": [
    {
     "data": {
      "text/plain": [
       "((60000, 28, 28), (10000, 28, 28))"
      ]
     },
     "execution_count": 38,
     "metadata": {},
     "output_type": "execute_result"
    }
   ],
   "source": [
    "X_train.shape, X_test.shape"
   ]
  },
  {
   "cell_type": "code",
   "execution_count": 39,
   "metadata": {},
   "outputs": [],
   "source": [
    "# reshape the data\n",
    "X_train = X_train.reshape((X_train.shape[0], 28, 28))\n",
    "X_test = X_test.reshape((X_test.shape[0], 28, 28))\n",
    "# change the type to float\n",
    "X_train = X_train.astype('float32')\n",
    "X_test = X_test.astype('float32')\n",
    "\n",
    "# convert data to 3 channels\n",
    "X_train = np.stack((X_train,)*3, axis=-1)\n",
    "X_test = np.stack((X_test,)*3, axis=-1)\n",
    "\n",
    "y_train = to_categorical(y_train)\n",
    "y_test = to_categorical(y_test)"
   ]
  },
  {
   "cell_type": "code",
   "execution_count": 40,
   "metadata": {},
   "outputs": [
    {
     "data": {
      "text/plain": [
       "((60000, 28, 28, 3), (10000, 28, 28, 3))"
      ]
     },
     "execution_count": 40,
     "metadata": {},
     "output_type": "execute_result"
    }
   ],
   "source": [
    "X_train.shape, X_test.shape"
   ]
  },
  {
   "cell_type": "code",
   "execution_count": 41,
   "metadata": {},
   "outputs": [],
   "source": [
    "# data augmentation with generator\n",
    "train_generator = ImageDataGenerator(\n",
    "    rescale = 1./255,  # normalization of images\n",
    "    rotation_range = 40, # augmention of images to avoid overfitting\n",
    "    shear_range = 0.2,\n",
    "    zoom_range = 0.2,\n",
    "    fill_mode = 'nearest'\n",
    ")\n",
    "\n",
    "val_generator = ImageDataGenerator(rescale = 1./255)\n",
    "\n",
    "train_iterator = train_generator.flow(X_train, y_train, batch_size=512, shuffle=True)\n",
    "\n",
    "val_iterator = val_generator.flow(X_test, y_test, batch_size=512, shuffle=False)"
   ]
  },
  {
   "cell_type": "code",
   "execution_count": 42,
   "metadata": {},
   "outputs": [],
   "source": [
    "from tensorflow.keras.applications.resnet50 import ResNet50\n",
    "from tensorflow.keras.models import Sequential\n",
    "from tensorflow.keras.layers import Dense"
   ]
  },
  {
   "cell_type": "code",
   "execution_count": 43,
   "metadata": {},
   "outputs": [
    {
     "name": "stdout",
     "output_type": "stream",
     "text": [
      "Model: \"sequential_1\"\n",
      "_________________________________________________________________\n",
      "Layer (type)                 Output Shape              Param #   \n",
      "=================================================================\n",
      "resnet50 (Functional)        (None, 2048)              23587712  \n",
      "_________________________________________________________________\n",
      "dense_2 (Dense)              (None, 512)               1049088   \n",
      "_________________________________________________________________\n",
      "dense_3 (Dense)              (None, 10)                5130      \n",
      "=================================================================\n",
      "Total params: 24,641,930\n",
      "Trainable params: 1,054,218\n",
      "Non-trainable params: 23,587,712\n",
      "_________________________________________________________________\n"
     ]
    }
   ],
   "source": [
    "model = Sequential()\n",
    "# add the pretrained model\n",
    "model.add(ResNet50(include_top=False, pooling='avg', weights='imagenet'))\n",
    "# add fully connected layer with output\n",
    "model.add(Dense(512, activation='relu'))\n",
    "model.add(Dense(10, activation='softmax'))\n",
    "\n",
    "# set resnet layers not trainable\n",
    "model.layers[0].trainable=False\n",
    "model.summary()"
   ]
  },
  {
   "cell_type": "code",
   "execution_count": 44,
   "metadata": {},
   "outputs": [],
   "source": [
    "model.compile(optimizer='Adam', loss='categorical_crossentropy', metrics=['accuracy'])"
   ]
  },
  {
   "cell_type": "markdown",
   "metadata": {},
   "source": [
    "## Learning Rate Scheduler"
   ]
  },
  {
   "cell_type": "code",
   "execution_count": 45,
   "metadata": {},
   "outputs": [],
   "source": [
    "from tensorflow.keras.callbacks import LearningRateScheduler\n",
    "import tensorflow as tf\n",
    "\n",
    "def scheduler(epoch, lr):\n",
    "    if epoch <= 3:\n",
    "        return lr\n",
    "    else:\n",
    "        return lr * tf.math.exp(-0.1)"
   ]
  },
  {
   "cell_type": "code",
   "execution_count": 46,
   "metadata": {},
   "outputs": [
    {
     "name": "stdout",
     "output_type": "stream",
     "text": [
      "0 0.01\n",
      "1 0.01\n",
      "2 0.01\n",
      "3 0.01\n",
      "4 tf.Tensor(0.009048373, shape=(), dtype=float32)\n",
      "5 tf.Tensor(0.008187306, shape=(), dtype=float32)\n",
      "6 tf.Tensor(0.0074081807, shape=(), dtype=float32)\n",
      "7 tf.Tensor(0.006703199, shape=(), dtype=float32)\n",
      "8 tf.Tensor(0.006065305, shape=(), dtype=float32)\n",
      "9 tf.Tensor(0.0054881144, shape=(), dtype=float32)\n"
     ]
    }
   ],
   "source": [
    "lr = 0.01\n",
    "for i in range(10):\n",
    "    lr = scheduler(i, lr)\n",
    "    print(i, lr)"
   ]
  },
  {
   "cell_type": "code",
   "execution_count": 47,
   "metadata": {},
   "outputs": [],
   "source": [
    "callback = LearningRateScheduler(scheduler)"
   ]
  },
  {
   "cell_type": "code",
   "execution_count": 48,
   "metadata": {},
   "outputs": [
    {
     "name": "stdout",
     "output_type": "stream",
     "text": [
      "Epoch 1/10\n",
      "118/118 [==============================] - 28s 212ms/step - loss: 1.8649 - accuracy: 0.3935 - val_loss: 0.8353 - val_accuracy: 0.7686\n",
      "Epoch 2/10\n",
      "118/118 [==============================] - 24s 198ms/step - loss: 1.0418 - accuracy: 0.6792 - val_loss: 0.6458 - val_accuracy: 0.8067\n",
      "Epoch 3/10\n",
      "118/118 [==============================] - 23s 196ms/step - loss: 0.8402 - accuracy: 0.7442 - val_loss: 0.5829 - val_accuracy: 0.8213\n",
      "Epoch 4/10\n",
      "118/118 [==============================] - 23s 197ms/step - loss: 0.7247 - accuracy: 0.7757 - val_loss: 0.5291 - val_accuracy: 0.8297\n",
      "Epoch 5/10\n",
      "118/118 [==============================] - 23s 194ms/step - loss: 0.6669 - accuracy: 0.7907 - val_loss: 0.4918 - val_accuracy: 0.8450\n",
      "Epoch 6/10\n",
      "118/118 [==============================] - 23s 197ms/step - loss: 0.6155 - accuracy: 0.8083 - val_loss: 0.4922 - val_accuracy: 0.8416\n",
      "Epoch 7/10\n",
      "118/118 [==============================] - 28s 232ms/step - loss: 0.5778 - accuracy: 0.8202 - val_loss: 0.4703 - val_accuracy: 0.8493\n",
      "Epoch 8/10\n",
      "118/118 [==============================] - 29s 239ms/step - loss: 0.5723 - accuracy: 0.8217 - val_loss: 0.4206 - val_accuracy: 0.8658\n",
      "Epoch 9/10\n",
      "118/118 [==============================] - 25s 210ms/step - loss: 0.5470 - accuracy: 0.8266 - val_loss: 0.4052 - val_accuracy: 0.8711\n",
      "Epoch 10/10\n",
      "118/118 [==============================] - 24s 199ms/step - loss: 0.5282 - accuracy: 0.8353 - val_loss: 0.4045 - val_accuracy: 0.8703\n"
     ]
    },
    {
     "data": {
      "text/plain": [
       "<tensorflow.python.keras.callbacks.History at 0x269702f0d60>"
      ]
     },
     "execution_count": 48,
     "metadata": {},
     "output_type": "execute_result"
    }
   ],
   "source": [
    "# train the model\n",
    "model.fit(train_iterator, epochs=10, validation_data=val_iterator, callbacks=callback)"
   ]
  },
  {
   "cell_type": "code",
   "execution_count": null,
   "metadata": {},
   "outputs": [],
   "source": []
  },
  {
   "cell_type": "markdown",
   "metadata": {},
   "source": [
    "## Early Stopping & Checkpoint"
   ]
  },
  {
   "cell_type": "code",
   "execution_count": 13,
   "metadata": {},
   "outputs": [],
   "source": [
    "from tensorflow.keras.datasets import mnist\n",
    "from tensorflow.keras.models import Sequential\n",
    "from tensorflow.keras.layers import Dense, Flatten\n",
    "from tensorflow.keras.callbacks import EarlyStopping, ModelCheckpoint\n",
    "import os"
   ]
  },
  {
   "cell_type": "code",
   "execution_count": 2,
   "metadata": {},
   "outputs": [],
   "source": [
    "# load the dataset\n",
    "(x_train, y_train), (x_test, y_test) = mnist.load_data()"
   ]
  },
  {
   "cell_type": "code",
   "execution_count": 5,
   "metadata": {},
   "outputs": [],
   "source": [
    "# preprocess the data\n",
    "x_train, x_test = x_train / 255.0, x_test / 255.0"
   ]
  },
  {
   "cell_type": "code",
   "execution_count": 7,
   "metadata": {},
   "outputs": [],
   "source": [
    "# define the model\n",
    "model = Sequential([\n",
    "    Flatten(input_shape=(28,28)),\n",
    "    Dense(128, activation='relu'),\n",
    "    Dense(10, activation='softmax')\n",
    "])\n",
    "# compile model\n",
    "model.compile(optimizer='adam', loss='sparse_categorical_crossentropy', metrics=['accuracy'])"
   ]
  },
  {
   "cell_type": "code",
   "execution_count": 8,
   "metadata": {},
   "outputs": [],
   "source": [
    "# define callbacks\n",
    "early_stopping = EarlyStopping(monitor='val_loss', patience=3, verbose=1)"
   ]
  },
  {
   "cell_type": "code",
   "execution_count": 9,
   "metadata": {},
   "outputs": [],
   "source": [
    "# # saving the best model\n",
    "# model_checkpoint = ModelCheckpoint(\"checkpoint.model.keras\",\n",
    "#                                   verbose=1,\n",
    "#                                    save_best_only=True,\n",
    "#                                    monitor='val_loss'\n",
    "#                                   )"
   ]
  },
  {
   "cell_type": "code",
   "execution_count": 15,
   "metadata": {},
   "outputs": [],
   "source": [
    "# create checkpoint folder\n",
    "checkpoint_path = 'model_checkpoint/cp-{epoch:03d}.keras'\n",
    "checkpoint_dir = os.path.dirname(checkpoint_path)\n",
    "os.makedirs(checkpoint_dir, exist_ok=True)\n",
    "\n",
    "model_checkpoint = ModelCheckpoint(checkpoint_path,\n",
    "                                   verbose=1,\n",
    "                                   save_freq='epoch',\n",
    "                                  )"
   ]
  },
  {
   "cell_type": "code",
   "execution_count": 16,
   "metadata": {},
   "outputs": [
    {
     "name": "stdout",
     "output_type": "stream",
     "text": [
      "Epoch 1/30\n",
      "\u001b[1m1478/1500\u001b[0m \u001b[32m━━━━━━━━━━━━━━━━━━━\u001b[0m\u001b[37m━\u001b[0m \u001b[1m0s\u001b[0m 2ms/step - accuracy: 0.9948 - loss: 0.0176\n",
      "Epoch 1: saving model to model_checkpoint/cp-001.keras\n",
      "\u001b[1m1500/1500\u001b[0m \u001b[32m━━━━━━━━━━━━━━━━━━━━\u001b[0m\u001b[37m\u001b[0m \u001b[1m4s\u001b[0m 2ms/step - accuracy: 0.9948 - loss: 0.0176 - val_accuracy: 0.9956 - val_loss: 0.0153\n",
      "Epoch 2/30\n",
      "\u001b[1m1484/1500\u001b[0m \u001b[32m━━━━━━━━━━━━━━━━━━━\u001b[0m\u001b[37m━\u001b[0m \u001b[1m0s\u001b[0m 2ms/step - accuracy: 0.9962 - loss: 0.0129\n",
      "Epoch 2: saving model to model_checkpoint/cp-002.keras\n",
      "\u001b[1m1500/1500\u001b[0m \u001b[32m━━━━━━━━━━━━━━━━━━━━\u001b[0m\u001b[37m\u001b[0m \u001b[1m4s\u001b[0m 2ms/step - accuracy: 0.9962 - loss: 0.0129 - val_accuracy: 0.9906 - val_loss: 0.0259\n",
      "Epoch 3/30\n",
      "\u001b[1m1497/1500\u001b[0m \u001b[32m━━━━━━━━━━━━━━━━━━━\u001b[0m\u001b[37m━\u001b[0m \u001b[1m0s\u001b[0m 2ms/step - accuracy: 0.9973 - loss: 0.0113\n",
      "Epoch 3: saving model to model_checkpoint/cp-003.keras\n",
      "\u001b[1m1500/1500\u001b[0m \u001b[32m━━━━━━━━━━━━━━━━━━━━\u001b[0m\u001b[37m\u001b[0m \u001b[1m4s\u001b[0m 2ms/step - accuracy: 0.9973 - loss: 0.0113 - val_accuracy: 0.9910 - val_loss: 0.0276\n",
      "Epoch 4/30\n",
      "\u001b[1m1479/1500\u001b[0m \u001b[32m━━━━━━━━━━━━━━━━━━━\u001b[0m\u001b[37m━\u001b[0m \u001b[1m0s\u001b[0m 2ms/step - accuracy: 0.9974 - loss: 0.0098\n",
      "Epoch 4: saving model to model_checkpoint/cp-004.keras\n",
      "\u001b[1m1500/1500\u001b[0m \u001b[32m━━━━━━━━━━━━━━━━━━━━\u001b[0m\u001b[37m\u001b[0m \u001b[1m4s\u001b[0m 3ms/step - accuracy: 0.9974 - loss: 0.0099 - val_accuracy: 0.9903 - val_loss: 0.0281\n",
      "Epoch 4: early stopping\n"
     ]
    }
   ],
   "source": [
    "# train the model\n",
    "# history = model.fit(x_train, y_train, epochs=30, validation_data=(x_test, y_test), callbacks=[early_stopping, model_checkpoint])\n",
    "history = model.fit(x_train, y_train, epochs=30, validation_split=0.2, callbacks=[early_stopping, model_checkpoint])"
   ]
  },
  {
   "cell_type": "code",
   "execution_count": 17,
   "metadata": {},
   "outputs": [
    {
     "name": "stdout",
     "output_type": "stream",
     "text": [
      "\u001b[1m313/313\u001b[0m \u001b[32m━━━━━━━━━━━━━━━━━━━━\u001b[0m\u001b[37m\u001b[0m \u001b[1m0s\u001b[0m 1ms/step - accuracy: 0.9747 - loss: 0.0986\n",
      "Best Loss: 0.08530430495738983 Best Accuracy: 0.9783999919891357\n"
     ]
    }
   ],
   "source": [
    "# evaluate the model\n",
    "loss, accuracy = model.evaluate(x_test, y_test)\n",
    "print('Best Loss:', loss, \"Best Accuracy:\", accuracy)"
   ]
  },
  {
   "cell_type": "code",
   "execution_count": null,
   "metadata": {},
   "outputs": [],
   "source": []
  },
  {
   "cell_type": "code",
   "execution_count": null,
   "metadata": {},
   "outputs": [],
   "source": []
  },
  {
   "cell_type": "code",
   "execution_count": null,
   "metadata": {},
   "outputs": [],
   "source": []
  },
  {
   "cell_type": "code",
   "execution_count": null,
   "metadata": {},
   "outputs": [],
   "source": []
  },
  {
   "cell_type": "code",
   "execution_count": null,
   "metadata": {},
   "outputs": [],
   "source": []
  },
  {
   "cell_type": "code",
   "execution_count": null,
   "metadata": {},
   "outputs": [],
   "source": []
  },
  {
   "cell_type": "code",
   "execution_count": null,
   "metadata": {},
   "outputs": [],
   "source": []
  },
  {
   "cell_type": "code",
   "execution_count": null,
   "metadata": {},
   "outputs": [],
   "source": []
  },
  {
   "cell_type": "code",
   "execution_count": null,
   "metadata": {},
   "outputs": [],
   "source": []
  },
  {
   "cell_type": "code",
   "execution_count": null,
   "metadata": {},
   "outputs": [],
   "source": []
  },
  {
   "cell_type": "code",
   "execution_count": null,
   "metadata": {},
   "outputs": [],
   "source": []
  },
  {
   "cell_type": "code",
   "execution_count": null,
   "metadata": {},
   "outputs": [],
   "source": []
  },
  {
   "cell_type": "code",
   "execution_count": null,
   "metadata": {},
   "outputs": [],
   "source": []
  },
  {
   "cell_type": "code",
   "execution_count": null,
   "metadata": {},
   "outputs": [],
   "source": []
  },
  {
   "cell_type": "code",
   "execution_count": null,
   "metadata": {},
   "outputs": [],
   "source": []
  },
  {
   "cell_type": "code",
   "execution_count": null,
   "metadata": {},
   "outputs": [],
   "source": []
  },
  {
   "cell_type": "code",
   "execution_count": null,
   "metadata": {},
   "outputs": [],
   "source": []
  }
 ],
 "metadata": {
  "kernelspec": {
   "display_name": "Python 3 (ipykernel)",
   "language": "python",
   "name": "python3"
  },
  "language_info": {
   "codemirror_mode": {
    "name": "ipython",
    "version": 3
   },
   "file_extension": ".py",
   "mimetype": "text/x-python",
   "name": "python",
   "nbconvert_exporter": "python",
   "pygments_lexer": "ipython3",
   "version": "3.11.5"
  }
 },
 "nbformat": 4,
 "nbformat_minor": 4
}
